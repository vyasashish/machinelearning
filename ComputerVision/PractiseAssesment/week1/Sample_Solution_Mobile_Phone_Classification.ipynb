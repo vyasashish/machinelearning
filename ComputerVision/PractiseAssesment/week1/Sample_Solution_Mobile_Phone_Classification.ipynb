{
  "nbformat": 4,
  "nbformat_minor": 0,
  "metadata": {
    "colab": {
      "name": "Solution_Mobile Phone Classification.ipynb",
      "provenance": [],
      "collapsed_sections": [
        "mSnjdKmpG82x",
        "MRj03V7AHAYe",
        "ufAqcNVCHIut"
      ]
    },
    "kernelspec": {
      "name": "python3",
      "display_name": "Python 3"
    },
    "accelerator": "GPU"
  },
  "cells": [
    {
      "cell_type": "markdown",
      "metadata": {
        "id": "Hbln1O8gBEih",
        "colab_type": "text"
      },
      "source": [
        "![alt text](https://drive.google.com/uc?export=view&id=1UXScsVx_Wni_JuDdB8LeTnM6jsPfIwkW)\n",
        "\n",
        "Proprietary content. © Great Learning. All Rights Reserved. Unauthorized use or distribution prohibited."
      ]
    },
    {
      "cell_type": "markdown",
      "metadata": {
        "id": "Q91KqmCRu64D",
        "colab_type": "text"
      },
      "source": [
        "# Mobile Phone Detection in an Image\n",
        "\n",
        "## Domain\n",
        "Mobile Phones, Computer Vision\n",
        "\n",
        "## Business Context\n",
        "The ability to process visual information using machine learning algorithms can be very useful. Electronics companies can use it to identify the presence of a mobile in an image (location), mobile brand just by looking at the image, and minor damages if there are any. The computer vision field has multiple applications and based on the available data it can be used to meet business objectives.\n",
        "Here, we will use a simple convolutional neural network to classify images with and without mobile phones. \n",
        " \n",
        "## Objective\n",
        "\n",
        "Given the images and label whether an image has a mobile phone or not, can you train a model that allows you to map and find the presence of mobile phones within the selected images.\n"
      ]
    },
    {
      "cell_type": "markdown",
      "metadata": {
        "id": "b0Qw0vEHBUvm",
        "colab_type": "text"
      },
      "source": [
        "### Package version\n",
        "- tensorflow==2.3.0\n",
        "- matplotlib==3.2.1\n",
        "- h5py==2.10.0\n",
        "- google==2.0.3"
      ]
    },
    {
      "cell_type": "markdown",
      "metadata": {
        "id": "yapdCjMwFl02",
        "colab_type": "text"
      },
      "source": [
        "## Table of Content\n",
        "\n",
        "1. Import Libraries\n",
        "\n",
        "2. Setting options\n",
        "\n",
        "3. Read Data\n",
        "\n",
        "4. Data Analysis and Preparation\n",
        "\n",
        "5. Visualize and Standardize the data\n",
        "\n",
        "6. Model Building\n",
        "\n",
        "7. Conclusion and Interpretation"
      ]
    },
    {
      "cell_type": "markdown",
      "metadata": {
        "id": "mSnjdKmpG82x",
        "colab_type": "text"
      },
      "source": [
        "## 1. Import Libraries"
      ]
    },
    {
      "cell_type": "markdown",
      "metadata": {
        "id": "8z2Z7-OAs8QG",
        "colab_type": "text"
      },
      "source": [
        "Let us start by mounting the drive"
      ]
    },
    {
      "cell_type": "code",
      "metadata": {
        "id": "REFUdThmpz_d",
        "colab_type": "code",
        "colab": {
          "base_uri": "https://localhost:8080/",
          "height": 122
        },
        "outputId": "d3ece0ec-4424-442d-9196-c17e8acc60c2"
      },
      "source": [
        "from google.colab import drive\n",
        "drive.mount('/content/drive')"
      ],
      "execution_count": null,
      "outputs": [
        {
          "output_type": "stream",
          "text": [
            "Go to this URL in a browser: https://accounts.google.com/o/oauth2/auth?client_id=947318989803-6bn6qk8qdgf4n4g3pfee6491hc0brc4i.apps.googleusercontent.com&redirect_uri=urn%3aietf%3awg%3aoauth%3a2.0%3aoob&scope=email%20https%3a%2f%2fwww.googleapis.com%2fauth%2fdocs.test%20https%3a%2f%2fwww.googleapis.com%2fauth%2fdrive%20https%3a%2f%2fwww.googleapis.com%2fauth%2fdrive.photos.readonly%20https%3a%2f%2fwww.googleapis.com%2fauth%2fpeopleapi.readonly&response_type=code\n",
            "\n",
            "Enter your authorization code:\n",
            "··········\n",
            "Mounted at /content/drive\n"
          ],
          "name": "stdout"
        }
      ]
    },
    {
      "cell_type": "markdown",
      "metadata": {
        "id": "ucnevGLoyKf_",
        "colab_type": "text"
      },
      "source": [
        "Let us check for the version of installed tensorflow."
      ]
    },
    {
      "cell_type": "code",
      "metadata": {
        "id": "W5as47YxyJVk",
        "colab_type": "code",
        "colab": {
          "base_uri": "https://localhost:8080/",
          "height": 88
        },
        "outputId": "2a2324d3-1243-409f-96ab-9f4e010e3908"
      },
      "source": [
        "# used to supress display of warnings\n",
        "import warnings\n",
        "\n",
        "# os is used to provide a way of using operating system dependent functionality\n",
        "# We use it for setting working folder\n",
        "import os\n",
        "\n",
        "# Pandas is used for data manipulation and analysis\n",
        "import pandas as pd \n",
        "\n",
        "# Numpy is used for large, multi-dimensional arrays and matrices, along with mathematical operators on these arrays\n",
        "import numpy as np\n",
        "\n",
        "# Matplotlib is a data visualization library for 2D plots of arrays, built on NumPy arrays \n",
        "# and designed to work with the broader SciPy stack\n",
        "import matplotlib.pyplot as plt\n",
        "%matplotlib inline\n",
        "from matplotlib import pyplot\n",
        "\n",
        "# Seaborn is based on matplotlib, which aids in drawing attractive and informative statistical graphics.\n",
        "import seaborn as sns\n",
        "import tensorflow \n",
        "print(tensorflow.__version__)\n",
        "\n",
        "\n",
        "from keras.utils import np_utils\n",
        "from keras.models import Sequential\n",
        "from keras.layers.core import Dense, Dropout, Activation, Flatten\n",
        "from keras.layers.convolutional import Conv2D, MaxPooling2D\n",
        "from keras.optimizers import SGD\n",
        "from keras.constraints import maxnorm\n",
        "from PIL import Image\n",
        "from PIL import ImageMath"
      ],
      "execution_count": null,
      "outputs": [
        {
          "output_type": "stream",
          "text": [
            "/usr/local/lib/python3.6/dist-packages/statsmodels/tools/_testing.py:19: FutureWarning: pandas.util.testing is deprecated. Use the functions in the public API at pandas.testing instead.\n",
            "  import pandas.util.testing as tm\n"
          ],
          "name": "stderr"
        },
        {
          "output_type": "stream",
          "text": [
            "2.3.0\n"
          ],
          "name": "stdout"
        }
      ]
    },
    {
      "cell_type": "markdown",
      "metadata": {
        "id": "MRj03V7AHAYe",
        "colab_type": "text"
      },
      "source": [
        "## 2. Setting Options"
      ]
    },
    {
      "cell_type": "code",
      "metadata": {
        "id": "qCKU7-YkHDq3",
        "colab_type": "code",
        "colab": {}
      },
      "source": [
        "# suppress display of warnings\n",
        "warnings.filterwarnings('ignore')\n",
        "\n",
        "# display all dataframe columns\n",
        "pd.options.display.max_columns = None\n",
        "\n",
        "# to set the limit to 3 decimals\n",
        "pd.options.display.float_format = '{:.7f}'.format\n",
        "\n",
        "# display all dataframe rows\n",
        "pd.options.display.max_rows = None"
      ],
      "execution_count": null,
      "outputs": []
    },
    {
      "cell_type": "markdown",
      "metadata": {
        "id": "ufAqcNVCHIut",
        "colab_type": "text"
      },
      "source": [
        "## 3. Read Data"
      ]
    },
    {
      "cell_type": "markdown",
      "metadata": {
        "id": "8lsux2ZwyTTR",
        "colab_type": "text"
      },
      "source": [
        "Let us now, load the image files that is available in two separate folders"
      ]
    },
    {
      "cell_type": "code",
      "metadata": {
        "id": "0l_gy2vbeMmp",
        "colab_type": "code",
        "colab": {}
      },
      "source": [
        "import cv2\n",
        "nophone = os.listdir('/content/drive/My Drive/Daily task/Case study/Classify Phone/training/cellphone-NO')\n",
        "yesphone = os.listdir('/content/drive/My Drive/Daily task/Case study/Classify Phone/training/cellphone-YES')"
      ],
      "execution_count": null,
      "outputs": []
    },
    {
      "cell_type": "code",
      "metadata": {
        "id": "F1D-zXv-g1uj",
        "colab_type": "code",
        "colab": {
          "base_uri": "https://localhost:8080/",
          "height": 35
        },
        "outputId": "618673bf-d6c4-4ccb-84ef-8478ffa65a49"
      },
      "source": [
        "yesphone[1]"
      ],
      "execution_count": null,
      "outputs": [
        {
          "output_type": "execute_result",
          "data": {
            "application/vnd.google.colaboratory.intrinsic+json": {
              "type": "string"
            },
            "text/plain": [
              "'img130.png'"
            ]
          },
          "metadata": {
            "tags": []
          },
          "execution_count": 7
        }
      ]
    },
    {
      "cell_type": "code",
      "metadata": {
        "id": "yCRE7ouoeszZ",
        "colab_type": "code",
        "colab": {
          "base_uri": "https://localhost:8080/",
          "height": 107
        },
        "outputId": "4618e564-2fd0-4d87-8735-fdd3c8eedc07"
      },
      "source": [
        "from google.colab.patches import cv2_imshow\n",
        "path = '/content/drive/My Drive/Daily task/Case study/Classify Phone/training'\n",
        "img = cv2.imread(path + '/cellphone-YES/img130.png')\n",
        "cv2_imshow(img)"
      ],
      "execution_count": null,
      "outputs": [
        {
          "output_type": "display_data",
          "data": {
            "image/png": "[encoded data removed]",
            "text/plain": [
              "<PIL.Image.Image image mode=RGB size=90x90 at 0x7F013E9AF978>"
            ]
          },
          "metadata": {
            "tags": []
          }
        }
      ]
    },
    {
      "cell_type": "code",
      "metadata": {
        "id": "FtiXAm63gyrl",
        "colab_type": "code",
        "colab": {
          "base_uri": "https://localhost:8080/",
          "height": 107
        },
        "outputId": "edb38b16-9148-4552-d323-a26d144e3c43"
      },
      "source": [
        "path1 = '/content/drive/My Drive/Daily task/Case study/Classify Phone/training'\n",
        "img = cv2.imread(path1 + '/cellphone-NO/img109.png')\n",
        "cv2_imshow(img)"
      ],
      "execution_count": null,
      "outputs": [
        {
          "output_type": "display_data",
          "data": {
            "image/png": "[encoded data removed]",
            "text/plain": [
              "<PIL.Image.Image image mode=RGB size=90x90 at 0x7F013E9B4F60>"
            ]
          },
          "metadata": {
            "tags": []
          }
        }
      ]
    },
    {
      "cell_type": "markdown",
      "metadata": {
        "id": "QxUwAWJHwGby",
        "colab_type": "text"
      },
      "source": [
        "### Checking frequncy distribution of two classes"
      ]
    },
    {
      "cell_type": "code",
      "metadata": {
        "id": "AldVGuGSwOo2",
        "colab_type": "code",
        "colab": {
          "base_uri": "https://localhost:8080/",
          "height": 68
        },
        "outputId": "57da3b87-eab1-4630-87f1-dfce542dcd93"
      },
      "source": [
        "print(\"The number of images having a mobile phone in it is\", len(yesphone))\n",
        "print(\"The number of images not having a mobile phone in it is\", len(nophone))\n",
        "print(\"Total number of training samples are\", len(yesphone)+len(nophone))"
      ],
      "execution_count": null,
      "outputs": [
        {
          "output_type": "stream",
          "text": [
            "The number of images having a mobile phone in it is 124\n",
            "The number of images not having a mobile phone in it is 121\n",
            "Total number of training samples are 245\n"
          ],
          "name": "stdout"
        }
      ]
    },
    {
      "cell_type": "markdown",
      "metadata": {
        "id": "qcq9QzORxTjR",
        "colab_type": "text"
      },
      "source": [
        "#### Class is quite balanced but total number of samples is quite less"
      ]
    },
    {
      "cell_type": "markdown",
      "metadata": {
        "id": "vF82QoNLxCjp",
        "colab_type": "text"
      },
      "source": [
        "## 4. Data Analysis and Preparation"
      ]
    },
    {
      "cell_type": "markdown",
      "metadata": {
        "id": "LDYN63hu2s97",
        "colab_type": "text"
      },
      "source": [
        "### Read image files and create label data"
      ]
    },
    {
      "cell_type": "code",
      "metadata": {
        "id": "Tg9nPFqNkxXj",
        "colab_type": "code",
        "colab": {}
      },
      "source": [
        "# Reding images from 'YES\" folder and creating a list of label = 1\n",
        "yesimg = []\n",
        "y_yes = []\n",
        "\n",
        "os.chdir('/content/drive/My Drive/Daily task/Case study/Classify Phone/training/cellphone-YES')\n",
        "import cv2\n",
        "for i in os.listdir(path + '/cellphone-YES'):\n",
        "  a = cv2.imread(i)\n",
        "  a = cv2.resize(a,(128,128))\n",
        "  yesimg.append(a)\n",
        "  y_yes.append(1)"
      ],
      "execution_count": null,
      "outputs": []
    },
    {
      "cell_type": "code",
      "metadata": {
        "id": "mJwAQ5gmrgp-",
        "colab_type": "code",
        "colab": {
          "base_uri": "https://localhost:8080/",
          "height": 51
        },
        "outputId": "d6df986e-a7b2-47b2-c1c7-d7286c52d561"
      },
      "source": [
        "#Checking size and shape of the images\n",
        "print(yesimg[1].shape)\n",
        "print(len(yesimg))"
      ],
      "execution_count": null,
      "outputs": [
        {
          "output_type": "stream",
          "text": [
            "(128, 128, 3)\n",
            "124\n"
          ],
          "name": "stdout"
        }
      ]
    },
    {
      "cell_type": "code",
      "metadata": {
        "id": "YpszJ7ackob6",
        "colab_type": "code",
        "colab": {}
      },
      "source": [
        "# Reding images from 'NO\" folder and creating a list of label = 0 \n",
        "noimg = []\n",
        "y_no = []\n",
        "os.chdir('/content/drive/My Drive/Daily task/Case study/Classify Phone/training/cellphone-NO')\n",
        "import cv2\n",
        "for i in os.listdir(path + '/cellphone-NO'):\n",
        "  a = cv2.imread(i)\n",
        "  a = cv2.resize(a,(128,128))\n",
        "  noimg.append(a)\n",
        "  y_no.append(0)"
      ],
      "execution_count": null,
      "outputs": []
    },
    {
      "cell_type": "code",
      "metadata": {
        "id": "xX5CGHJfsMMi",
        "colab_type": "code",
        "colab": {
          "base_uri": "https://localhost:8080/",
          "height": 51
        },
        "outputId": "e0f71535-5409-489d-e120-7f5c0317c96f"
      },
      "source": [
        "print(noimg[0].shape)\n",
        "print(len(noimg))"
      ],
      "execution_count": null,
      "outputs": [
        {
          "output_type": "stream",
          "text": [
            "(128, 128, 3)\n",
            "121\n"
          ],
          "name": "stdout"
        }
      ]
    },
    {
      "cell_type": "code",
      "metadata": {
        "id": "1eO2jRDkr-mi",
        "colab_type": "code",
        "colab": {}
      },
      "source": [
        "#Concatenating both the categories of images into one array\n",
        "X_img = np.concatenate((yesimg, noimg), axis=0)"
      ],
      "execution_count": null,
      "outputs": []
    },
    {
      "cell_type": "code",
      "metadata": {
        "id": "9HGhDa_L0-yV",
        "colab_type": "code",
        "colab": {
          "base_uri": "https://localhost:8080/",
          "height": 51
        },
        "outputId": "a194aa1d-6d7f-4661-c135-9d2396b09740"
      },
      "source": [
        "#Checking shape and size of the final data\n",
        "print(X_img[0].shape)\n",
        "print(len(X_img))"
      ],
      "execution_count": null,
      "outputs": [
        {
          "output_type": "stream",
          "text": [
            "(128, 128, 3)\n",
            "245\n"
          ],
          "name": "stdout"
        }
      ]
    },
    {
      "cell_type": "code",
      "metadata": {
        "id": "ZQ-D0rOPkamH",
        "colab_type": "code",
        "colab": {}
      },
      "source": [
        "#Concatenating the label data into one array\n",
        "Y = np.concatenate((y_yes,y_no), axis = 0)"
      ],
      "execution_count": null,
      "outputs": []
    },
    {
      "cell_type": "code",
      "metadata": {
        "id": "S4qHlLQrrVS5",
        "colab_type": "code",
        "colab": {
          "base_uri": "https://localhost:8080/",
          "height": 34
        },
        "outputId": "3ab2d534-d111-4fe7-c63e-71f1523c968e"
      },
      "source": [
        "print(len(Y))"
      ],
      "execution_count": null,
      "outputs": [
        {
          "output_type": "stream",
          "text": [
            "245\n"
          ],
          "name": "stdout"
        }
      ]
    },
    {
      "cell_type": "code",
      "metadata": {
        "id": "uCsWgs6010Lu",
        "colab_type": "code",
        "colab": {}
      },
      "source": [
        "#Randomizing the data\n",
        "from sklearn.utils import shuffle\n",
        "data, label = shuffle(X_img, Y, random_state=2)"
      ],
      "execution_count": null,
      "outputs": []
    },
    {
      "cell_type": "code",
      "metadata": {
        "id": "svqoACd05L0e",
        "colab_type": "code",
        "colab": {}
      },
      "source": [
        "#Splitting the data into train and test set using default size\n",
        "from sklearn.model_selection import train_test_split\n",
        "X_train, X_test,y_train,y_test = train_test_split(data,label,random_state=4)"
      ],
      "execution_count": null,
      "outputs": []
    },
    {
      "cell_type": "markdown",
      "metadata": {
        "id": "hXC7babK32WW",
        "colab_type": "text"
      },
      "source": [
        "### Analyzing label data"
      ]
    },
    {
      "cell_type": "code",
      "metadata": {
        "id": "WvoytdDj-4Uv",
        "colab_type": "code",
        "colab": {}
      },
      "source": [
        "labels = pd.read_csv('/content/drive/My Drive/Daily task/Case study/Classify Phone/mobile-images - data.csv')"
      ],
      "execution_count": null,
      "outputs": []
    },
    {
      "cell_type": "code",
      "metadata": {
        "id": "cH-JKni2TJVH",
        "colab_type": "code",
        "colab": {
          "base_uri": "https://localhost:8080/",
          "height": 279
        },
        "outputId": "2b3f642a-a228-49dc-cbd2-d596ede940e3"
      },
      "source": [
        "pd.value_counts(labels['label']).plot(kind='bar')"
      ],
      "execution_count": null,
      "outputs": [
        {
          "output_type": "execute_result",
          "data": {
            "text/plain": [
              "<matplotlib.axes._subplots.AxesSubplot at 0x7f00e52a3e48>"
            ]
          },
          "metadata": {
            "tags": []
          },
          "execution_count": 149
        },
        {
          "output_type": "display_data",
          "data": {
            "image/png": "[encoded data removed]",
            "text/plain": [
              "<Figure size 432x288 with 1 Axes>"
            ]
          },
          "metadata": {
            "tags": [],
            "needs_background": "light"
          }
        }
      ]
    },
    {
      "cell_type": "code",
      "metadata": {
        "id": "ajsYTs6Vd3d7",
        "colab_type": "code",
        "colab": {
          "base_uri": "https://localhost:8080/",
          "height": 204
        },
        "outputId": "ffec963c-e455-4466-d5fc-232db52d269b"
      },
      "source": [
        "labels.head(5)"
      ],
      "execution_count": null,
      "outputs": [
        {
          "output_type": "execute_result",
          "data": {
            "text/html": [
              "<div>\n",
              "<style scoped>\n",
              "    .dataframe tbody tr th:only-of-type {\n",
              "        vertical-align: middle;\n",
              "    }\n",
              "\n",
              "    .dataframe tbody tr th {\n",
              "        vertical-align: top;\n",
              "    }\n",
              "\n",
              "    .dataframe thead th {\n",
              "        text-align: right;\n",
              "    }\n",
              "</style>\n",
              "<table border=\"1\" class=\"dataframe\">\n",
              "  <thead>\n",
              "    <tr style=\"text-align: right;\">\n",
              "      <th></th>\n",
              "      <th>filename</th>\n",
              "      <th>label</th>\n",
              "    </tr>\n",
              "  </thead>\n",
              "  <tbody>\n",
              "    <tr>\n",
              "      <th>0</th>\n",
              "      <td>img56.png</td>\n",
              "      <td>No</td>\n",
              "    </tr>\n",
              "    <tr>\n",
              "      <th>1</th>\n",
              "      <td>img199.png</td>\n",
              "      <td>Yes</td>\n",
              "    </tr>\n",
              "    <tr>\n",
              "      <th>2</th>\n",
              "      <td>img107.png</td>\n",
              "      <td>No</td>\n",
              "    </tr>\n",
              "    <tr>\n",
              "      <th>3</th>\n",
              "      <td>img123.png</td>\n",
              "      <td>Yes</td>\n",
              "    </tr>\n",
              "    <tr>\n",
              "      <th>4</th>\n",
              "      <td>img193.png</td>\n",
              "      <td>Yes</td>\n",
              "    </tr>\n",
              "  </tbody>\n",
              "</table>\n",
              "</div>"
            ],
            "text/plain": [
              "     filename label\n",
              "0   img56.png    No\n",
              "1  img199.png   Yes\n",
              "2  img107.png    No\n",
              "3  img123.png   Yes\n",
              "4  img193.png   Yes"
            ]
          },
          "metadata": {
            "tags": []
          },
          "execution_count": 13
        }
      ]
    },
    {
      "cell_type": "code",
      "metadata": {
        "id": "gHy_Pn0Ue4j3",
        "colab_type": "code",
        "colab": {}
      },
      "source": [
        "labels['label'] = pd.get_dummies(labels['label'])"
      ],
      "execution_count": null,
      "outputs": []
    },
    {
      "cell_type": "code",
      "metadata": {
        "id": "GyeRDk5Ifc8W",
        "colab_type": "code",
        "colab": {
          "base_uri": "https://localhost:8080/",
          "height": 204
        },
        "outputId": "0670f2d8-bead-48fd-92cf-c37461222da3"
      },
      "source": [
        "labels.head(5)"
      ],
      "execution_count": null,
      "outputs": [
        {
          "output_type": "execute_result",
          "data": {
            "text/html": [
              "<div>\n",
              "<style scoped>\n",
              "    .dataframe tbody tr th:only-of-type {\n",
              "        vertical-align: middle;\n",
              "    }\n",
              "\n",
              "    .dataframe tbody tr th {\n",
              "        vertical-align: top;\n",
              "    }\n",
              "\n",
              "    .dataframe thead th {\n",
              "        text-align: right;\n",
              "    }\n",
              "</style>\n",
              "<table border=\"1\" class=\"dataframe\">\n",
              "  <thead>\n",
              "    <tr style=\"text-align: right;\">\n",
              "      <th></th>\n",
              "      <th>filename</th>\n",
              "      <th>label</th>\n",
              "    </tr>\n",
              "  </thead>\n",
              "  <tbody>\n",
              "    <tr>\n",
              "      <th>0</th>\n",
              "      <td>img56.png</td>\n",
              "      <td>0</td>\n",
              "    </tr>\n",
              "    <tr>\n",
              "      <th>1</th>\n",
              "      <td>img199.png</td>\n",
              "      <td>1</td>\n",
              "    </tr>\n",
              "    <tr>\n",
              "      <th>2</th>\n",
              "      <td>img107.png</td>\n",
              "      <td>0</td>\n",
              "    </tr>\n",
              "    <tr>\n",
              "      <th>3</th>\n",
              "      <td>img123.png</td>\n",
              "      <td>1</td>\n",
              "    </tr>\n",
              "    <tr>\n",
              "      <th>4</th>\n",
              "      <td>img193.png</td>\n",
              "      <td>1</td>\n",
              "    </tr>\n",
              "  </tbody>\n",
              "</table>\n",
              "</div>"
            ],
            "text/plain": [
              "     filename  label\n",
              "0   img56.png      0\n",
              "1  img199.png      1\n",
              "2  img107.png      0\n",
              "3  img123.png      1\n",
              "4  img193.png      1"
            ]
          },
          "metadata": {
            "tags": []
          },
          "execution_count": 17
        }
      ]
    },
    {
      "cell_type": "markdown",
      "metadata": {
        "id": "IERuYS1BHuCq",
        "colab_type": "text"
      },
      "source": [
        "## 5. Visualize and Standardize the data"
      ]
    },
    {
      "cell_type": "markdown",
      "metadata": {
        "id": "kxODV6HKykuc",
        "colab_type": "text"
      },
      "source": [
        "Let us try visualising the first 10 images in the dataset."
      ]
    },
    {
      "cell_type": "code",
      "metadata": {
        "colab_type": "code",
        "id": "Bvsc8ytHsqWD",
        "colab": {
          "base_uri": "https://localhost:8080/",
          "height": 95
        },
        "outputId": "4f9e3c34-0922-4b04-f82f-d68aea8a91b1"
      },
      "source": [
        "# visualizing the first 10 images in the dataset and their labels\n",
        "%matplotlib inline\n",
        "import matplotlib.pyplot as plt\n",
        "plt.figure(figsize=(10, 1))\n",
        "for i in range(10):\n",
        "    plt.subplot(1, 10, i+1)\n",
        "    plt.imshow(X_train[i], cmap=\"gray\")\n",
        "    plt.axis('off')\n",
        "plt.show()\n",
        "print('label for each of the above image: %s' % (y_train[0:10]))"
      ],
      "execution_count": null,
      "outputs": [
        {
          "output_type": "display_data",
          "data": {
            "image/png": "[encoded data removed]",
            "text/plain": [
              "<Figure size 720x72 with 10 Axes>"
            ]
          },
          "metadata": {
            "tags": [],
            "needs_background": "light"
          }
        },
        {
          "output_type": "stream",
          "text": [
            "label for each of the above image: [0 1 0 1 0 1 0 1 1 1]\n"
          ],
          "name": "stdout"
        }
      ]
    },
    {
      "cell_type": "markdown",
      "metadata": {
        "id": "y1ZC0x0I3-jo",
        "colab_type": "text"
      },
      "source": [
        "Let us check the shape of the data"
      ]
    },
    {
      "cell_type": "code",
      "metadata": {
        "id": "Ju4-rQ9y39RW",
        "colab_type": "code",
        "colab": {
          "base_uri": "https://localhost:8080/",
          "height": 34
        },
        "outputId": "7926ee06-5bee-4772-af43-812467cb1568"
      },
      "source": [
        "X_train.shape"
      ],
      "execution_count": null,
      "outputs": [
        {
          "output_type": "execute_result",
          "data": {
            "text/plain": [
              "(183, 128, 128, 3)"
            ]
          },
          "metadata": {
            "tags": []
          },
          "execution_count": 181
        }
      ]
    },
    {
      "cell_type": "code",
      "metadata": {
        "id": "V_3SxY7O4DJB",
        "colab_type": "code",
        "colab": {
          "base_uri": "https://localhost:8080/",
          "height": 34
        },
        "outputId": "97806760-eb15-4a61-fe9e-b69a15a215bd"
      },
      "source": [
        "y_train.shape"
      ],
      "execution_count": null,
      "outputs": [
        {
          "output_type": "execute_result",
          "data": {
            "text/plain": [
              "(183,)"
            ]
          },
          "metadata": {
            "tags": []
          },
          "execution_count": 182
        }
      ]
    },
    {
      "cell_type": "markdown",
      "metadata": {
        "id": "kzoyeXHOy80N",
        "colab_type": "text"
      },
      "source": [
        "Need to reshape the X_train and X_test so that the same can be fed for model building. We need to feed a 3D tensor into the model.\n",
        "\n",
        "- We will normalize the data. We divide by 255 as this is a grayscale image and can take values from 0-255\n"
      ]
    },
    {
      "cell_type": "code",
      "metadata": {
        "id": "IU1INSRR9rjr",
        "colab_type": "code",
        "colab": {}
      },
      "source": [
        "x_train = X_train.reshape(X_train.shape[0],128,128,3)\n",
        "x_test = X_test.reshape(X_test.shape[0],128,128,3)"
      ],
      "execution_count": null,
      "outputs": []
    },
    {
      "cell_type": "code",
      "metadata": {
        "colab_type": "code",
        "id": "D9YPwf9ysqWU",
        "colab": {
          "base_uri": "https://localhost:8080/",
          "height": 51
        },
        "outputId": "960a2b83-d51d-410f-c13e-0c8f329f8831"
      },
      "source": [
        "# # normalize inputs from 0-255 to 0-1\n",
        "\n",
        "X_train_std = x_train / 255.0\n",
        "X_test_std = x_test / 255.0\n",
        "\n",
        "print('Resized Training set', X_train_std.shape, y_train.shape)\n",
        "print('Resized Test set', X_test_std.shape, y_test.shape)"
      ],
      "execution_count": null,
      "outputs": [
        {
          "output_type": "stream",
          "text": [
            "Resized Training set (183, 128, 128, 3) (183,)\n",
            "Resized Test set (62, 128, 128, 3) (62,)\n"
          ],
          "name": "stdout"
        }
      ]
    },
    {
      "cell_type": "markdown",
      "metadata": {
        "id": "bogxx3cezol1",
        "colab_type": "text"
      },
      "source": [
        "Encoding the target variables. We need to one hot encode the labels for the model to understand the labels better. We will be using categorical cross entropy as our loss function and for this purpose we need our labels to be in one hot encoded format."
      ]
    },
    {
      "cell_type": "code",
      "metadata": {
        "colab_type": "code",
        "id": "zL0lYER4sqWw",
        "colab": {
          "base_uri": "https://localhost:8080/",
          "height": 34
        },
        "outputId": "11920297-1187-4917-d1ce-cdbbb14671d2"
      },
      "source": [
        "from tensorflow.keras.utils import to_categorical\n",
        "# one hot encode outputs\n",
        "y_train = to_categorical(y_train)\n",
        "y_test = to_categorical(y_test)\n",
        "\n",
        "# no.of classes\n",
        "num_classes = y_test.shape[1] \n",
        "print(\"The number of classes in this dataset are:\",num_classes)"
      ],
      "execution_count": null,
      "outputs": [
        {
          "output_type": "stream",
          "text": [
            "The number of classes in this dataset are: 2\n"
          ],
          "name": "stdout"
        }
      ]
    },
    {
      "cell_type": "markdown",
      "metadata": {
        "id": "xztigzzfITt-",
        "colab_type": "text"
      },
      "source": [
        "## 6. Model building"
      ]
    },
    {
      "cell_type": "markdown",
      "metadata": {
        "id": "UJDUoaEj1d6e",
        "colab_type": "text"
      },
      "source": [
        "#### Let us now build the neural network model, fit the training data, test it and provide model summary. Feel free to play around with the network and get to a better solution."
      ]
    },
    {
      "cell_type": "code",
      "metadata": {
        "colab_type": "code",
        "id": "Cmi81Gr5sqW-",
        "colab": {}
      },
      "source": [
        "# define model\n",
        "\n",
        "from tensorflow.keras import optimizers\n",
        "from tensorflow.keras.models import Sequential\n",
        "from tensorflow.keras.layers import Dense, Flatten\n",
        "\n",
        "nb_epoch = 30\n",
        "rows, cols = 128, 128\n",
        "n_channels = 3\n",
        "batch_size = 32\n",
        "n_classes = 2\n",
        "n_filter = 32\n",
        "n_pool = 2\n",
        "n_conv = 3\n",
        "\n",
        "def cnn_model():\n",
        "    # create model\n",
        "    model = Sequential()  \n",
        "    model.add(Conv2D(n_filter,(n_conv,n_conv), activation= 'relu', input_shape=(rows,cols,n_channels)))\n",
        "    model.add(layers.MaxPooling2D((2, 2)))\n",
        "    model.add(layers.Conv2D(64, (5, 5), activation='relu'))\n",
        "    model.add(layers.MaxPooling2D((2, 2)))\n",
        "    model.add(layers.Flatten())\n",
        "    model.add(Dense(n_classes, activation='softmax'))\n",
        "    return model"
      ],
      "execution_count": null,
      "outputs": []
    },
    {
      "cell_type": "markdown",
      "metadata": {
        "id": "QbGCdivk6gM7",
        "colab_type": "text"
      },
      "source": [
        "Let us create an object of our model"
      ]
    },
    {
      "cell_type": "code",
      "metadata": {
        "id": "geazN4wi6Y84",
        "colab_type": "code",
        "colab": {}
      },
      "source": [
        "# build the model\n",
        "model = cnn_model()"
      ],
      "execution_count": null,
      "outputs": []
    },
    {
      "cell_type": "code",
      "metadata": {
        "id": "Mfh8tFcB7oj4",
        "colab_type": "code",
        "colab": {}
      },
      "source": [
        "# Compile model\n",
        "sgd = optimizers.Adam(lr=1e-3)\n",
        "model.compile(loss='categorical_crossentropy', optimizer=sgd, metrics=['accuracy']) ### Loss function = Categorical cross entropy"
      ],
      "execution_count": null,
      "outputs": []
    },
    {
      "cell_type": "markdown",
      "metadata": {
        "id": "5t90ufg46jLl",
        "colab_type": "text"
      },
      "source": [
        "Let us fit our model on the training dataset along with it's equivalent one hot encoded labels"
      ]
    },
    {
      "cell_type": "code",
      "metadata": {
        "id": "It28yqDu6dLW",
        "colab_type": "code",
        "colab": {
          "base_uri": "https://localhost:8080/",
          "height": 1000
        },
        "outputId": "7b59cc0a-ca09-4ed1-d0f8-e378afdb289c"
      },
      "source": [
        "# Fit the model\n",
        "training_history = model.fit(X_train_std, y_train, validation_data=(X_test_std, y_test), epochs=nb_epoch, batch_size=batch_size, verbose=2)"
      ],
      "execution_count": null,
      "outputs": [
        {
          "output_type": "stream",
          "text": [
            "Epoch 1/30\n",
            "6/6 - 1s - loss: 1.4012 - accuracy: 0.5082 - val_loss: 0.7122 - val_accuracy: 0.4194\n",
            "Epoch 2/30\n",
            "6/6 - 0s - loss: 0.6292 - accuracy: 0.5628 - val_loss: 0.6193 - val_accuracy: 0.6452\n",
            "Epoch 3/30\n",
            "6/6 - 0s - loss: 0.5150 - accuracy: 0.7869 - val_loss: 0.4316 - val_accuracy: 0.8710\n",
            "Epoch 4/30\n",
            "6/6 - 0s - loss: 0.3557 - accuracy: 0.8798 - val_loss: 0.3819 - val_accuracy: 0.8548\n",
            "Epoch 5/30\n",
            "6/6 - 0s - loss: 0.2742 - accuracy: 0.8743 - val_loss: 0.2940 - val_accuracy: 0.9032\n",
            "Epoch 6/30\n",
            "6/6 - 0s - loss: 0.2641 - accuracy: 0.9071 - val_loss: 0.2927 - val_accuracy: 0.8710\n",
            "Epoch 7/30\n",
            "6/6 - 0s - loss: 0.2190 - accuracy: 0.9180 - val_loss: 0.3063 - val_accuracy: 0.8548\n",
            "Epoch 8/30\n",
            "6/6 - 0s - loss: 0.1913 - accuracy: 0.9344 - val_loss: 0.2770 - val_accuracy: 0.9032\n",
            "Epoch 9/30\n",
            "6/6 - 0s - loss: 0.1394 - accuracy: 0.9454 - val_loss: 0.3093 - val_accuracy: 0.8871\n",
            "Epoch 10/30\n",
            "6/6 - 0s - loss: 0.1141 - accuracy: 0.9672 - val_loss: 0.2553 - val_accuracy: 0.9194\n",
            "Epoch 11/30\n",
            "6/6 - 0s - loss: 0.0817 - accuracy: 0.9836 - val_loss: 0.2886 - val_accuracy: 0.9032\n",
            "Epoch 12/30\n",
            "6/6 - 0s - loss: 0.0723 - accuracy: 0.9836 - val_loss: 0.2788 - val_accuracy: 0.8710\n",
            "Epoch 13/30\n",
            "6/6 - 0s - loss: 0.0560 - accuracy: 0.9891 - val_loss: 0.2816 - val_accuracy: 0.9032\n",
            "Epoch 14/30\n",
            "6/6 - 0s - loss: 0.0443 - accuracy: 0.9891 - val_loss: 0.3318 - val_accuracy: 0.9032\n",
            "Epoch 15/30\n",
            "6/6 - 0s - loss: 0.0364 - accuracy: 0.9945 - val_loss: 0.3434 - val_accuracy: 0.9032\n",
            "Epoch 16/30\n",
            "6/6 - 0s - loss: 0.0386 - accuracy: 0.9836 - val_loss: 0.3139 - val_accuracy: 0.8871\n",
            "Epoch 17/30\n",
            "6/6 - 0s - loss: 0.0342 - accuracy: 0.9891 - val_loss: 0.3224 - val_accuracy: 0.9032\n",
            "Epoch 18/30\n",
            "6/6 - 0s - loss: 0.0302 - accuracy: 0.9891 - val_loss: 0.3213 - val_accuracy: 0.9032\n",
            "Epoch 19/30\n",
            "6/6 - 0s - loss: 0.0248 - accuracy: 0.9945 - val_loss: 0.3015 - val_accuracy: 0.9194\n",
            "Epoch 20/30\n",
            "6/6 - 0s - loss: 0.0232 - accuracy: 0.9945 - val_loss: 0.3558 - val_accuracy: 0.9194\n",
            "Epoch 21/30\n",
            "6/6 - 0s - loss: 0.0193 - accuracy: 1.0000 - val_loss: 0.4377 - val_accuracy: 0.9032\n",
            "Epoch 22/30\n",
            "6/6 - 0s - loss: 0.0189 - accuracy: 0.9945 - val_loss: 0.3834 - val_accuracy: 0.9032\n",
            "Epoch 23/30\n",
            "6/6 - 0s - loss: 0.0096 - accuracy: 1.0000 - val_loss: 0.3629 - val_accuracy: 0.9194\n",
            "Epoch 24/30\n",
            "6/6 - 0s - loss: 0.0106 - accuracy: 1.0000 - val_loss: 0.3847 - val_accuracy: 0.9194\n",
            "Epoch 25/30\n",
            "6/6 - 0s - loss: 0.0071 - accuracy: 1.0000 - val_loss: 0.4300 - val_accuracy: 0.9032\n",
            "Epoch 26/30\n",
            "6/6 - 0s - loss: 0.0063 - accuracy: 1.0000 - val_loss: 0.4568 - val_accuracy: 0.9032\n",
            "Epoch 27/30\n",
            "6/6 - 0s - loss: 0.0051 - accuracy: 1.0000 - val_loss: 0.4353 - val_accuracy: 0.9032\n",
            "Epoch 28/30\n",
            "6/6 - 0s - loss: 0.0041 - accuracy: 1.0000 - val_loss: 0.4235 - val_accuracy: 0.9194\n",
            "Epoch 29/30\n",
            "6/6 - 0s - loss: 0.0037 - accuracy: 1.0000 - val_loss: 0.4293 - val_accuracy: 0.9194\n",
            "Epoch 30/30\n",
            "6/6 - 0s - loss: 0.0033 - accuracy: 1.0000 - val_loss: 0.4406 - val_accuracy: 0.9032\n"
          ],
          "name": "stdout"
        }
      ]
    },
    {
      "cell_type": "markdown",
      "metadata": {
        "id": "algw3-VGIj-N",
        "colab_type": "text"
      },
      "source": [
        "# 7. Conclusion and Interpretation\n"
      ]
    },
    {
      "cell_type": "code",
      "metadata": {
        "id": "FnJ1ivri6raW",
        "colab_type": "code",
        "colab": {
          "base_uri": "https://localhost:8080/",
          "height": 51
        },
        "outputId": "f13ebb6e-a9e3-415c-b4c4-81f4f33b1038"
      },
      "source": [
        "# Final evaluation of the model\n",
        "scores = model.evaluate(X_test_std, y_test, verbose=0)\n",
        "print(\"Loss:\", scores[0])\n",
        "print(\"Accuracy:\", scores[1])"
      ],
      "execution_count": null,
      "outputs": [
        {
          "output_type": "stream",
          "text": [
            "Loss: 0.4406394064426422\n",
            "Accuracy: 0.9032257795333862\n"
          ],
          "name": "stdout"
        }
      ]
    },
    {
      "cell_type": "code",
      "metadata": {
        "id": "KTkKIdERtyIp",
        "colab_type": "code",
        "colab": {
          "base_uri": "https://localhost:8080/",
          "height": 562
        },
        "outputId": "a84a804a-9b12-4eff-e5e9-961ab423cd0b"
      },
      "source": [
        "accuracy      = training_history.history['accuracy']\n",
        "val_accuracy  = training_history.history['val_accuracy']\n",
        "loss     = training_history.history['loss']\n",
        "val_loss = training_history.history['val_loss']\n",
        "\n",
        "epochs   = range(len(accuracy)) # Get number of epochs\n",
        "\n",
        "plt.plot  ( epochs, accuracy, label = 'training accuracy' )\n",
        "plt.plot  ( epochs, val_accuracy, label = 'validation accuracy' )\n",
        "plt.title ('Training and validation accuracy')\n",
        "plt.legend(loc = 'lower right')\n",
        "plt.figure()\n",
        "\n",
        "plt.plot  ( epochs, loss, label = 'training loss' )\n",
        "plt.plot  ( epochs, val_loss, label = 'validation loss' )\n",
        "plt.legend(loc = 'upper right')\n",
        "plt.title ('Training and validation loss'   )"
      ],
      "execution_count": null,
      "outputs": [
        {
          "output_type": "execute_result",
          "data": {
            "text/plain": [
              "Text(0.5, 1.0, 'Training and validation loss')"
            ]
          },
          "metadata": {
            "tags": []
          },
          "execution_count": 204
        },
        {
          "output_type": "display_data",
          "data": {
            "image/png": "[encoded data removed]",
            "text/plain": [
              "<Figure size 432x288 with 1 Axes>"
            ]
          },
          "metadata": {
            "tags": [],
            "needs_background": "light"
          }
        },
        {
          "output_type": "display_data",
          "data": {
            "image/png": "[encoded data removed]",
            "text/plain": [
              "<Figure size 432x288 with 1 Axes>"
            ]
          },
          "metadata": {
            "tags": [],
            "needs_background": "light"
          }
        }
      ]
    },
    {
      "cell_type": "code",
      "metadata": {
        "id": "w021dqyRTE3Y",
        "colab_type": "code",
        "colab": {
          "base_uri": "https://localhost:8080/",
          "height": 179
        },
        "outputId": "ccde23a4-d211-4d63-bfce-f25696723293"
      },
      "source": [
        "sample = model.predict_classes(X_test_std)\n",
        "\n",
        "test_pred = X_test_std\n",
        "def show_pred(show, test_pred, sample):\n",
        "    fig, axs = plt.subplots(1, show, figsize=(12, 8))\n",
        "    for i in range(0, show):\n",
        "        axs[i].imshow(test_pred[i], label=sample[i])\n",
        "        axs[i].set_title('Label: {}'.format(sample[i]))\n",
        "        \n",
        "show_pred(5, test_pred, sample)"
      ],
      "execution_count": 218,
      "outputs": [
        {
          "output_type": "display_data",
          "data": {
            "image/png": "[encoded data removed]",
            "text/plain": [
              "<Figure size 864x576 with 5 Axes>"
            ]
          },
          "metadata": {
            "tags": [],
            "needs_background": "light"
          }
        }
      ]
    },
    {
      "cell_type": "markdown",
      "metadata": {
        "id": "JS27zSiqIzZ8",
        "colab_type": "text"
      },
      "source": [
        "There are two classes in the dataset which represent the images with mobile and without mobile.\n",
        "\n",
        "We trained a Convolutional Neural Network with dense hidden layers of different number of units and are able to achieve a final test accuracy of ~90 %. \n",
        "\n",
        "Also we notice that after a certain point the model begins to overfit on our dataset as is clear from the plots above where the validation loss begins to increase after certain point and validation accuracy begins to decrease.\n",
        "\n",
        "Thus, with this amount of accuracy we are able to distinguish between the different digits in this dataset.\n"
      ]
    },
    {
      "cell_type": "markdown",
      "metadata": {
        "id": "R_Bud7eiJk7x",
        "colab_type": "text"
      },
      "source": [
        "## Further explore"
      ]
    },
    {
      "cell_type": "markdown",
      "metadata": {
        "id": "NKEwRyW9JnCd",
        "colab_type": "text"
      },
      "source": [
        "Can you try changing a few hyperparameters such as number of layers in the network or number of units in a hidden layer or try different activation functions in the hidden layers and see if you get better results than the one in this notebook? "
      ]
    }
  ]
}